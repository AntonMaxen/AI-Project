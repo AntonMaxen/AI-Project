{
  "nbformat": 4,
  "nbformat_minor": 0,
  "metadata": {
    "accelerator": "GPU",
    "colab": {
      "name": "ConvNeurNet_3.ipynb",
      "provenance": []
    },
    "kernelspec": {
      "display_name": "Python 3",
      "name": "python3"
    },
    "language_info": {
      "name": "python"
    }
  },
  "cells": [
    {
      "cell_type": "code",
      "metadata": {
        "id": "1gWsEADC-_em"
      },
      "source": [
        "import os\n",
        "import cv2\n",
        "import h5py\n",
        "import numpy as np\n",
        "from tqdm import tqdm\n",
        "import matplotlib.pyplot as plt\n",
        "import torch\n",
        "import torch.nn as nn\n",
        "import torch.nn.functional as F\n",
        "import torch.optim as optim\n",
        "from sklearn.model_selection import train_test_split\n",
        "import torchvision.transforms as transforms\n"
      ],
      "execution_count": 39,
      "outputs": []
    },
    {
      "cell_type": "code",
      "metadata": {
        "colab": {
          "base_uri": "https://localhost:8080/"
        },
        "id": "p-GwOOMl_OX3",
        "outputId": "348e211c-6c82-4704-c8c8-ae27af36bd0c"
      },
      "source": [
        "db_file = \"/content/drive/MyDrive/images.hdf5\"\n",
        "categories = ['Rococo', 'Art_Nouveau_Modern']\n",
        "print (categories[0])"
      ],
      "execution_count": 40,
      "outputs": [
        {
          "output_type": "stream",
          "text": [
            "Rococo\n"
          ],
          "name": "stdout"
        }
      ]
    },
    {
      "cell_type": "code",
      "metadata": {
        "id": "TbzN_xgn_TDl"
      },
      "source": [
        "def load_images(db_file, categories):\n",
        "    f = h5py.File(db_file, \"r\")\n",
        "    images = {}\n",
        "    for category in categories:\n",
        "        image_group = np.array(f[f'{category}/images'][:300])\n",
        "        label_group = np.array(f[f'{category}/meta'][:300])\n",
        "        print(len(label_group))\n",
        "\n",
        "        images[category] = {\n",
        "            \"images\": image_group,\n",
        "            \"labels\": label_group\n",
        "            \n",
        "        }\n",
        "    #images.append([np.array(img), np.eye(2)[1]])\n",
        "    f.close()\n",
        "    return images"
      ],
      "execution_count": 41,
      "outputs": []
    },
    {
      "cell_type": "code",
      "metadata": {
        "colab": {
          "base_uri": "https://localhost:8080/"
        },
        "id": "3OONR-B0_Wdv",
        "outputId": "7e23978a-6708-41c1-ed59-75dc48cb3500"
      },
      "source": [
        "images = load_images(db_file, categories)"
      ],
      "execution_count": 42,
      "outputs": [
        {
          "output_type": "stream",
          "text": [
            "300\n",
            "300\n"
          ],
          "name": "stdout"
        }
      ]
    },
    {
      "cell_type": "code",
      "metadata": {
        "id": "nnNgnVlG_dMG"
      },
      "source": [
        "def reformat_images(image_dict):\n",
        "    all_images = []\n",
        "    all_labels = []\n",
        "    category_lengths = [len(v['images']) for _, v in image_dict.items()]\n",
        "    min_cat_len = min(category_lengths)\n",
        "\n",
        "    for k, v in image_dict.items():\n",
        "        image_list = v['images']\n",
        "        all_images.extend([t_image for i, t_image in enumerate(image_list) if i < min_cat_len])\n",
        "        if k == categories[0]:\n",
        "          k = np.eye(2)[0]\n",
        "        else: k = np.eye(2)[1]\n",
        "        all_labels.extend([k for i, _ in enumerate(image_list) if i < min_cat_len])\n",
        "\n",
        "    all_images = torch.Tensor([i for i in all_images]).view(-1, 3, 224, 224)\n",
        "    print(len(all_images))\n",
        "    all_labels = torch.Tensor([i for i in all_labels])\n",
        "    print(len(all_labels))\n",
        "    \n",
        "\n",
        "    return all_images, all_labels"
      ],
      "execution_count": 43,
      "outputs": []
    },
    {
      "cell_type": "code",
      "metadata": {
        "id": "sr47Yw6W_mqM"
      },
      "source": [
        "\n",
        "#print(type(re_images))\n",
        "#print(str(re_images[1][0]))\n",
        "#print(type(re_images[0][0]))\n",
        "#print(len(re_images[0][0]))\n",
        "#plt.imshow(re_images[0][100])\n",
        "#print(re_images[1][0])\n"
      ],
      "execution_count": 44,
      "outputs": []
    },
    {
      "cell_type": "code",
      "metadata": {
        "id": "NNBgF5cw_piX"
      },
      "source": [
        "print(images['Rococo']['images'])\n",
        "print(images['Art_Nouveau_Modern']['images'])"
      ],
      "execution_count": null,
      "outputs": []
    },
    {
      "cell_type": "code",
      "metadata": {
        "id": "ePRgjMKi_r50",
        "colab": {
          "base_uri": "https://localhost:8080/"
        },
        "outputId": "c4ea05c8-0d33-4e46-d106-0c0dac92509e"
      },
      "source": [
        "class Net(nn.Module):\n",
        "  def __init__(self):\n",
        "    super().__init__()\n",
        "    self.conv1 = nn.Conv2d(3, 32, 5)\n",
        "    self.conv2 = nn.Conv2d(32, 64, 5)\n",
        "    self.conv3 = nn.Conv2d(64, 128, 5)\n",
        "\n",
        "    x = torch.randn(3,224,224).view(-1,3,224,224)\n",
        "    self._to_linear = None\n",
        "    self.convs(x)\n",
        "    self.fc1 = nn.Linear(self._to_linear, 512)\n",
        "    self.fc2 = nn.Linear(512, 2)\n",
        "\n",
        "  def convs(self, x):\n",
        "    x = F.max_pool2d(F.relu(self.conv1(x)), (2,2))\n",
        "    x = F.max_pool2d(F.relu(self.conv2(x)), (2,2))\n",
        "    x = F.max_pool2d(F.relu(self.conv3(x)), (2,2))\n",
        "\n",
        "\n",
        "    if self._to_linear is None:\n",
        "      self._to_linear = x[0].shape[0]*x[0].shape[1]*x[0].shape[2]\n",
        "    return x\n",
        "\n",
        "  def forward(self, x):\n",
        "    x = self.convs(x)\n",
        "    x = x.view(-1, self._to_linear)\n",
        "    x = F.relu(self.fc1(x))\n",
        "    x = self.fc2(x)\n",
        "\n",
        "    return F.softmax(x, dim=1)\n",
        "\n",
        "net = Net()\n",
        "print(net)"
      ],
      "execution_count": 55,
      "outputs": [
        {
          "output_type": "stream",
          "text": [
            "Net(\n",
            "  (conv1): Conv2d(3, 32, kernel_size=(5, 5), stride=(1, 1))\n",
            "  (conv2): Conv2d(32, 64, kernel_size=(5, 5), stride=(1, 1))\n",
            "  (conv3): Conv2d(64, 128, kernel_size=(5, 5), stride=(1, 1))\n",
            "  (fc1): Linear(in_features=73728, out_features=512, bias=True)\n",
            "  (fc2): Linear(in_features=512, out_features=2, bias=True)\n",
            ")\n"
          ],
          "name": "stdout"
        }
      ]
    },
    {
      "cell_type": "code",
      "metadata": {
        "id": "k-UsV1a1AwJH"
      },
      "source": [
        "#print(X_train.shape)"
      ],
      "execution_count": 46,
      "outputs": []
    },
    {
      "cell_type": "code",
      "metadata": {
        "id": "AZpQ730uDiha"
      },
      "source": [
        ""
      ],
      "execution_count": 46,
      "outputs": []
    },
    {
      "cell_type": "code",
      "metadata": {
        "id": "dUeG89HTC3V4"
      },
      "source": [
        ""
      ],
      "execution_count": null,
      "outputs": []
    },
    {
      "cell_type": "code",
      "metadata": {
        "colab": {
          "base_uri": "https://localhost:8080/"
        },
        "id": "VcA9on5fDKuk",
        "outputId": "745a3049-e7cc-4871-8c0d-cf2d0192ac74"
      },
      "source": [
        "re_images = reformat_images(images)\n",
        "\n",
        "X = re_images[0]\n",
        "y = re_images[1]\n",
        "X = X/255.0\n",
        "\n",
        "print(X.shape)\n",
        "X_train, X_test, y_train, y_test = train_test_split(X, y, test_size=0.33, random_state=42)\n",
        "\n",
        "optimizer = optim.Adam(net.parameters(), lr=0.001)\n",
        "loss_function = nn.MSELoss()\n",
        "#X_test = torch.Tensor([i for i in X_test]).view(-1, 3, 224, 224)\n",
        "#X_train = torch.Tensor([i for i in X_train]).view(-1, 3, 224, 224)\n",
        "#print(X_test.shape)\n",
        "\n",
        "\n",
        "#y_train =  torch.Tensor([i for i in y_train])\n",
        "#y_test =  torch.Tensor([i for i in y_test])\n",
        "\n",
        "\n"
      ],
      "execution_count": 56,
      "outputs": [
        {
          "output_type": "stream",
          "text": [
            "600\n",
            "600\n",
            "torch.Size([600, 3, 224, 224])\n",
            "torch.Size([198, 3, 224, 224])\n"
          ],
          "name": "stdout"
        }
      ]
    },
    {
      "cell_type": "code",
      "metadata": {
        "colab": {
          "base_uri": "https://localhost:8080/",
          "height": 269
        },
        "id": "5UJF7hax7rIh",
        "outputId": "313cc7d9-c61b-43a8-b30b-86c8d7c781ee"
      },
      "source": [
        "plt.imshow(X_train[0].permute(1, 2, 0)  )\n",
        "plt.show()"
      ],
      "execution_count": 57,
      "outputs": [
        {
          "output_type": "display_data",
          "data": {
            "image/png": "[encoded data removed]",
            "text/plain": [
              "<Figure size 432x288 with 1 Axes>"
            ]
          },
          "metadata": {
            "tags": [],
            "needs_background": "light"
          }
        }
      ]
    },
    {
      "cell_type": "code",
      "metadata": {
        "colab": {
          "base_uri": "https://localhost:8080/"
        },
        "id": "ngCnv6CwEroy",
        "outputId": "f1efb9e2-7956-4031-8885-f544fff8614f"
      },
      "source": [
        "BATCH_SIZE = 100\n",
        "EPOCHS = 10\n",
        "\n",
        "for epoch in range(EPOCHS):\n",
        "  for i in tqdm(range(0, len(X_train), BATCH_SIZE)):\n",
        "    #print(X_train[i:i+BATCH_SIZE].view(-1, 224, 224).shape)\n",
        "    X_batch = X_train[i:i+BATCH_SIZE].view(-1, 3, 224, 224)\n",
        "    y_batch = y_train[i:i+BATCH_SIZE]\n",
        "\n",
        "    net.zero_grad()\n",
        "    outputs = net(X_batch)\n",
        "    loss = loss_function(outputs, y_batch )\n",
        "    loss.backward()\n",
        "    optimizer.step()\n",
        "\n",
        "  print(f\"Epoch: {epoch+1}. Loss: {loss}\")"
      ],
      "execution_count": 63,
      "outputs": [
        {
          "output_type": "stream",
          "text": [
            "\n",
            "  0%|          | 0/5 [00:00<?, ?it/s]\u001b[A\n",
            " 20%|██        | 1/5 [00:12<00:49, 12.47s/it]\u001b[A\n",
            " 40%|████      | 2/5 [00:24<00:37, 12.48s/it]\u001b[A\n",
            " 60%|██████    | 3/5 [00:37<00:24, 12.46s/it]\u001b[A\n",
            " 80%|████████  | 4/5 [00:49<00:12, 12.48s/it]\u001b[A\n",
            "100%|██████████| 5/5 [00:50<00:00, 10.10s/it]\n",
            "\n",
            "  0%|          | 0/5 [00:00<?, ?it/s]\u001b[A"
          ],
          "name": "stderr"
        },
        {
          "output_type": "stream",
          "text": [
            "Epoch: 1. Loss: 0.00020478444639593363\n"
          ],
          "name": "stdout"
        },
        {
          "output_type": "stream",
          "text": [
            "\n",
            " 20%|██        | 1/5 [00:12<00:50, 12.60s/it]\u001b[A\n",
            " 40%|████      | 2/5 [00:24<00:37, 12.52s/it]\u001b[A\n",
            " 60%|██████    | 3/5 [00:37<00:25, 12.50s/it]\u001b[A\n",
            " 80%|████████  | 4/5 [00:49<00:12, 12.48s/it]\u001b[A\n",
            "100%|██████████| 5/5 [00:50<00:00, 10.09s/it]\n",
            "\n",
            "  0%|          | 0/5 [00:00<?, ?it/s]\u001b[A"
          ],
          "name": "stderr"
        },
        {
          "output_type": "stream",
          "text": [
            "Epoch: 2. Loss: 1.5854746379773133e-05\n"
          ],
          "name": "stdout"
        },
        {
          "output_type": "stream",
          "text": [
            "\n",
            " 20%|██        | 1/5 [00:12<00:49, 12.38s/it]\u001b[A\n",
            " 40%|████      | 2/5 [00:24<00:37, 12.40s/it]\u001b[A\n",
            " 60%|██████    | 3/5 [00:37<00:24, 12.40s/it]\u001b[A\n",
            " 80%|████████  | 4/5 [00:49<00:12, 12.40s/it]\u001b[A\n",
            "100%|██████████| 5/5 [00:50<00:00, 10.05s/it]\n",
            "\n",
            "  0%|          | 0/5 [00:00<?, ?it/s]\u001b[A"
          ],
          "name": "stderr"
        },
        {
          "output_type": "stream",
          "text": [
            "Epoch: 3. Loss: 0.0001394774590153247\n"
          ],
          "name": "stdout"
        },
        {
          "output_type": "stream",
          "text": [
            "\n",
            " 20%|██        | 1/5 [00:12<00:49, 12.48s/it]\u001b[A\n",
            " 40%|████      | 2/5 [00:24<00:37, 12.44s/it]\u001b[A\n",
            " 60%|██████    | 3/5 [00:37<00:24, 12.43s/it]\u001b[A\n",
            " 80%|████████  | 4/5 [00:49<00:12, 12.40s/it]\u001b[A\n",
            "100%|██████████| 5/5 [00:50<00:00, 10.04s/it]\n",
            "\n",
            "  0%|          | 0/5 [00:00<?, ?it/s]\u001b[A"
          ],
          "name": "stderr"
        },
        {
          "output_type": "stream",
          "text": [
            "Epoch: 4. Loss: 3.903727701981552e-05\n"
          ],
          "name": "stdout"
        },
        {
          "output_type": "stream",
          "text": [
            "\n",
            " 20%|██        | 1/5 [00:12<00:49, 12.27s/it]\u001b[A\n",
            " 40%|████      | 2/5 [00:24<00:37, 12.34s/it]\u001b[A\n",
            " 60%|██████    | 3/5 [00:37<00:24, 12.36s/it]\u001b[A\n",
            " 80%|████████  | 4/5 [00:49<00:12, 12.38s/it]\u001b[A\n",
            "100%|██████████| 5/5 [00:50<00:00, 10.05s/it]\n",
            "\n",
            "  0%|          | 0/5 [00:00<?, ?it/s]\u001b[A"
          ],
          "name": "stderr"
        },
        {
          "output_type": "stream",
          "text": [
            "Epoch: 5. Loss: 9.635270544094965e-06\n"
          ],
          "name": "stdout"
        },
        {
          "output_type": "stream",
          "text": [
            "\n",
            " 20%|██        | 1/5 [00:12<00:49, 12.43s/it]\u001b[A\n",
            " 40%|████      | 2/5 [00:24<00:37, 12.43s/it]\u001b[A\n",
            " 60%|██████    | 3/5 [00:37<00:24, 12.47s/it]\u001b[A\n",
            " 80%|████████  | 4/5 [00:49<00:12, 12.47s/it]\u001b[A\n",
            "100%|██████████| 5/5 [00:50<00:00, 10.10s/it]\n",
            "\n",
            "  0%|          | 0/5 [00:00<?, ?it/s]\u001b[A"
          ],
          "name": "stderr"
        },
        {
          "output_type": "stream",
          "text": [
            "Epoch: 6. Loss: 8.894566235539969e-06\n"
          ],
          "name": "stdout"
        },
        {
          "output_type": "stream",
          "text": [
            "\n",
            " 20%|██        | 1/5 [00:12<00:49, 12.40s/it]\u001b[A\n",
            " 40%|████      | 2/5 [00:24<00:37, 12.46s/it]\u001b[A\n",
            " 60%|██████    | 3/5 [00:37<00:24, 12.47s/it]\u001b[A\n",
            " 80%|████████  | 4/5 [00:50<00:12, 12.49s/it]\u001b[A\n",
            "100%|██████████| 5/5 [00:50<00:00, 10.13s/it]\n",
            "\n",
            "  0%|          | 0/5 [00:00<?, ?it/s]\u001b[A"
          ],
          "name": "stderr"
        },
        {
          "output_type": "stream",
          "text": [
            "Epoch: 7. Loss: 6.362072895171877e-07\n"
          ],
          "name": "stdout"
        },
        {
          "output_type": "stream",
          "text": [
            "\n",
            " 20%|██        | 1/5 [00:12<00:50, 12.55s/it]\u001b[A\n",
            " 40%|████      | 2/5 [00:24<00:37, 12.51s/it]\u001b[A\n",
            " 60%|██████    | 3/5 [00:37<00:25, 12.53s/it]\u001b[A\n",
            " 80%|████████  | 4/5 [00:50<00:12, 12.52s/it]\u001b[A\n",
            "100%|██████████| 5/5 [00:50<00:00, 10.13s/it]\n",
            "\n",
            "  0%|          | 0/5 [00:00<?, ?it/s]\u001b[A"
          ],
          "name": "stderr"
        },
        {
          "output_type": "stream",
          "text": [
            "Epoch: 8. Loss: 2.824365026299347e-07\n"
          ],
          "name": "stdout"
        },
        {
          "output_type": "stream",
          "text": [
            "\n",
            " 20%|██        | 1/5 [00:12<00:50, 12.52s/it]\u001b[A\n",
            " 40%|████      | 2/5 [00:25<00:37, 12.52s/it]\u001b[A\n",
            " 60%|██████    | 3/5 [00:37<00:24, 12.48s/it]\u001b[A\n",
            " 80%|████████  | 4/5 [00:49<00:12, 12.50s/it]\u001b[A\n",
            "100%|██████████| 5/5 [00:50<00:00, 10.12s/it]\n",
            "\n",
            "  0%|          | 0/5 [00:00<?, ?it/s]\u001b[A"
          ],
          "name": "stderr"
        },
        {
          "output_type": "stream",
          "text": [
            "Epoch: 9. Loss: 7.751131647637521e-08\n"
          ],
          "name": "stdout"
        },
        {
          "output_type": "stream",
          "text": [
            "\n",
            " 20%|██        | 1/5 [00:12<00:49, 12.41s/it]\u001b[A\n",
            " 40%|████      | 2/5 [00:24<00:37, 12.42s/it]\u001b[A\n",
            " 60%|██████    | 3/5 [00:37<00:24, 12.49s/it]\u001b[A\n",
            " 80%|████████  | 4/5 [00:49<00:12, 12.46s/it]\u001b[A\n",
            "100%|██████████| 5/5 [00:50<00:00, 10.11s/it]"
          ],
          "name": "stderr"
        },
        {
          "output_type": "stream",
          "text": [
            "Epoch: 10. Loss: 8.896621217502343e-09\n"
          ],
          "name": "stdout"
        },
        {
          "output_type": "stream",
          "text": [
            "\n"
          ],
          "name": "stderr"
        }
      ]
    },
    {
      "cell_type": "code",
      "metadata": {
        "colab": {
          "base_uri": "https://localhost:8080/"
        },
        "id": "2J5f5IkwgHWD",
        "outputId": "b3383c23-c922-49a7-e8de-32af2c6aab14"
      },
      "source": [
        "correct = 0\n",
        "total = 0\n",
        "with torch.no_grad():\n",
        "    for i in tqdm(range(len(X_test))):\n",
        "        real_class = torch.argmax(y_test[i])\n",
        "        net_out = net(X_test[i].view(-1, 3 , 224, 224))[0]\n",
        "        predicted_class = torch.argmax(net_out)\n",
        "\n",
        "        if predicted_class == real_class:\n",
        "            correct += 1\n",
        "        total += 1\n",
        "print(\"Accuracy: \", round(correct/total, 3))"
      ],
      "execution_count": 64,
      "outputs": [
        {
          "output_type": "stream",
          "text": [
            "\n",
            "  0%|          | 0/198 [00:00<?, ?it/s]\u001b[A\n",
            "  1%|          | 2/198 [00:00<00:11, 17.28it/s]\u001b[A\n",
            "  2%|▏         | 4/198 [00:00<00:11, 17.32it/s]\u001b[A\n",
            "  3%|▎         | 6/198 [00:00<00:11, 17.29it/s]\u001b[A\n",
            "  4%|▍         | 8/198 [00:00<00:11, 17.17it/s]\u001b[A\n",
            "  5%|▌         | 10/198 [00:00<00:11, 16.89it/s]\u001b[A\n",
            "  6%|▌         | 12/198 [00:00<00:10, 17.00it/s]\u001b[A\n",
            "  7%|▋         | 14/198 [00:00<00:10, 17.03it/s]\u001b[A\n",
            "  8%|▊         | 16/198 [00:00<00:10, 16.96it/s]\u001b[A\n",
            "  9%|▉         | 18/198 [00:01<00:10, 16.49it/s]\u001b[A\n",
            " 10%|█         | 20/198 [00:01<00:10, 16.67it/s]\u001b[A\n",
            " 11%|█         | 22/198 [00:01<00:10, 16.86it/s]\u001b[A\n",
            " 12%|█▏        | 24/198 [00:01<00:10, 16.90it/s]\u001b[A\n",
            " 13%|█▎        | 26/198 [00:01<00:10, 16.50it/s]\u001b[A\n",
            " 14%|█▍        | 28/198 [00:01<00:10, 16.65it/s]\u001b[A\n",
            " 15%|█▌        | 30/198 [00:01<00:09, 16.85it/s]\u001b[A\n",
            " 16%|█▌        | 32/198 [00:01<00:09, 16.64it/s]\u001b[A\n",
            " 17%|█▋        | 34/198 [00:02<00:09, 16.58it/s]\u001b[A\n",
            " 18%|█▊        | 36/198 [00:02<00:09, 16.84it/s]\u001b[A\n",
            " 19%|█▉        | 38/198 [00:02<00:09, 17.05it/s]\u001b[A\n",
            " 20%|██        | 40/198 [00:02<00:09, 17.12it/s]\u001b[A\n",
            " 21%|██        | 42/198 [00:02<00:09, 17.11it/s]\u001b[A\n",
            " 22%|██▏       | 44/198 [00:02<00:09, 16.61it/s]\u001b[A\n",
            " 23%|██▎       | 46/198 [00:02<00:09, 16.87it/s]\u001b[A\n",
            " 24%|██▍       | 48/198 [00:02<00:08, 16.93it/s]\u001b[A\n",
            " 25%|██▌       | 50/198 [00:02<00:08, 16.94it/s]\u001b[A\n",
            " 26%|██▋       | 52/198 [00:03<00:08, 17.00it/s]\u001b[A\n",
            " 27%|██▋       | 54/198 [00:03<00:08, 17.07it/s]\u001b[A\n",
            " 28%|██▊       | 56/198 [00:03<00:08, 17.17it/s]\u001b[A\n",
            " 29%|██▉       | 58/198 [00:03<00:08, 17.11it/s]\u001b[A\n",
            " 30%|███       | 60/198 [00:03<00:08, 17.02it/s]\u001b[A\n",
            " 31%|███▏      | 62/198 [00:03<00:07, 17.15it/s]\u001b[A\n",
            " 32%|███▏      | 64/198 [00:03<00:07, 17.14it/s]\u001b[A\n",
            " 33%|███▎      | 66/198 [00:03<00:07, 17.21it/s]\u001b[A\n",
            " 34%|███▍      | 68/198 [00:04<00:07, 17.31it/s]\u001b[A\n",
            " 35%|███▌      | 70/198 [00:04<00:07, 17.39it/s]\u001b[A\n",
            " 36%|███▋      | 72/198 [00:04<00:07, 17.41it/s]\u001b[A\n",
            " 37%|███▋      | 74/198 [00:04<00:07, 17.16it/s]\u001b[A\n",
            " 38%|███▊      | 76/198 [00:04<00:07, 17.25it/s]\u001b[A\n",
            " 39%|███▉      | 78/198 [00:04<00:07, 17.07it/s]\u001b[A\n",
            " 40%|████      | 80/198 [00:04<00:06, 17.09it/s]\u001b[A\n",
            " 41%|████▏     | 82/198 [00:04<00:06, 16.82it/s]\u001b[A\n",
            " 42%|████▏     | 84/198 [00:04<00:06, 16.93it/s]\u001b[A\n",
            " 43%|████▎     | 86/198 [00:05<00:06, 16.95it/s]\u001b[A\n",
            " 44%|████▍     | 88/198 [00:05<00:06, 17.02it/s]\u001b[A\n",
            " 45%|████▌     | 90/198 [00:05<00:06, 17.05it/s]\u001b[A\n",
            " 46%|████▋     | 92/198 [00:05<00:06, 17.07it/s]\u001b[A\n",
            " 47%|████▋     | 94/198 [00:05<00:06, 16.72it/s]\u001b[A\n",
            " 48%|████▊     | 96/198 [00:05<00:06, 16.66it/s]\u001b[A\n",
            " 49%|████▉     | 98/198 [00:05<00:05, 16.87it/s]\u001b[A\n",
            " 51%|█████     | 100/198 [00:05<00:05, 16.72it/s]\u001b[A\n",
            " 52%|█████▏    | 102/198 [00:06<00:05, 16.74it/s]\u001b[A\n",
            " 53%|█████▎    | 104/198 [00:06<00:05, 16.73it/s]\u001b[A\n",
            " 54%|█████▎    | 106/198 [00:06<00:05, 16.56it/s]\u001b[A\n",
            " 55%|█████▍    | 108/198 [00:06<00:05, 16.69it/s]\u001b[A\n",
            " 56%|█████▌    | 110/198 [00:06<00:05, 16.83it/s]\u001b[A\n",
            " 57%|█████▋    | 112/198 [00:06<00:05, 16.72it/s]\u001b[A\n",
            " 58%|█████▊    | 114/198 [00:06<00:04, 16.87it/s]\u001b[A\n",
            " 59%|█████▊    | 116/198 [00:06<00:04, 16.96it/s]\u001b[A\n",
            " 60%|█████▉    | 118/198 [00:06<00:04, 16.71it/s]\u001b[A\n",
            " 61%|██████    | 120/198 [00:07<00:04, 16.72it/s]\u001b[A\n",
            " 62%|██████▏   | 122/198 [00:07<00:04, 17.00it/s]\u001b[A\n",
            " 63%|██████▎   | 124/198 [00:07<00:04, 16.76it/s]\u001b[A\n",
            " 64%|██████▎   | 126/198 [00:07<00:04, 16.84it/s]\u001b[A\n",
            " 65%|██████▍   | 128/198 [00:07<00:04, 16.90it/s]\u001b[A\n",
            " 66%|██████▌   | 130/198 [00:07<00:04, 16.74it/s]\u001b[A\n",
            " 67%|██████▋   | 132/198 [00:07<00:03, 16.87it/s]\u001b[A\n",
            " 68%|██████▊   | 134/198 [00:07<00:03, 16.93it/s]\u001b[A\n",
            " 69%|██████▊   | 136/198 [00:08<00:03, 16.85it/s]\u001b[A\n",
            " 70%|██████▉   | 138/198 [00:08<00:03, 16.93it/s]\u001b[A\n",
            " 71%|███████   | 140/198 [00:08<00:03, 17.00it/s]\u001b[A\n",
            " 72%|███████▏  | 142/198 [00:08<00:03, 17.02it/s]\u001b[A\n",
            " 73%|███████▎  | 144/198 [00:08<00:03, 17.03it/s]\u001b[A\n",
            " 74%|███████▎  | 146/198 [00:08<00:03, 16.76it/s]\u001b[A\n",
            " 75%|███████▍  | 148/198 [00:08<00:02, 16.83it/s]\u001b[A\n",
            " 76%|███████▌  | 150/198 [00:08<00:02, 16.71it/s]\u001b[A\n",
            " 77%|███████▋  | 152/198 [00:08<00:02, 16.41it/s]\u001b[A\n",
            " 78%|███████▊  | 154/198 [00:09<00:02, 16.48it/s]\u001b[A\n",
            " 79%|███████▉  | 156/198 [00:09<00:02, 16.73it/s]\u001b[A\n",
            " 80%|███████▉  | 158/198 [00:09<00:02, 16.91it/s]\u001b[A\n",
            " 81%|████████  | 160/198 [00:09<00:02, 17.04it/s]\u001b[A\n",
            " 82%|████████▏ | 162/198 [00:09<00:02, 16.96it/s]\u001b[A\n",
            " 83%|████████▎ | 164/198 [00:09<00:02, 16.96it/s]\u001b[A\n",
            " 84%|████████▍ | 166/198 [00:09<00:01, 17.01it/s]\u001b[A\n",
            " 85%|████████▍ | 168/198 [00:09<00:01, 17.02it/s]\u001b[A\n",
            " 86%|████████▌ | 170/198 [00:10<00:01, 16.93it/s]\u001b[A\n",
            " 87%|████████▋ | 172/198 [00:10<00:01, 17.05it/s]\u001b[A\n",
            " 88%|████████▊ | 174/198 [00:10<00:01, 16.88it/s]\u001b[A\n",
            " 89%|████████▉ | 176/198 [00:10<00:01, 16.86it/s]\u001b[A\n",
            " 90%|████████▉ | 178/198 [00:10<00:01, 16.70it/s]\u001b[A\n",
            " 91%|█████████ | 180/198 [00:10<00:01, 16.63it/s]\u001b[A\n",
            " 92%|█████████▏| 182/198 [00:10<00:00, 16.88it/s]\u001b[A\n",
            " 93%|█████████▎| 184/198 [00:10<00:00, 16.88it/s]\u001b[A\n",
            " 94%|█████████▍| 186/198 [00:11<00:00, 16.84it/s]\u001b[A\n",
            " 95%|█████████▍| 188/198 [00:11<00:00, 16.83it/s]\u001b[A\n",
            " 96%|█████████▌| 190/198 [00:11<00:00, 16.84it/s]\u001b[A\n",
            " 97%|█████████▋| 192/198 [00:11<00:00, 16.96it/s]\u001b[A\n",
            " 98%|█████████▊| 194/198 [00:11<00:00, 16.72it/s]\u001b[A\n",
            " 99%|█████████▉| 196/198 [00:11<00:00, 16.65it/s]\u001b[A\n",
            "100%|██████████| 198/198 [00:11<00:00, 16.88it/s]"
          ],
          "name": "stderr"
        },
        {
          "output_type": "stream",
          "text": [
            "Accuracy:  0.768\n"
          ],
          "name": "stdout"
        },
        {
          "output_type": "stream",
          "text": [
            "\n"
          ],
          "name": "stderr"
        }
      ]
    },
    {
      "cell_type": "code",
      "metadata": {
        "id": "jEnTLwoyugf5"
      },
      "source": [
        ""
      ],
      "execution_count": 51,
      "outputs": []
    }
  ]
}